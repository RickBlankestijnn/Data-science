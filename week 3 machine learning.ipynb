{
 "cells": [
  {
   "cell_type": "markdown",
   "id": "372fc36f",
   "metadata": {},
   "source": [
    "# Week 3 machine learning\n"
   ]
  },
  {
   "cell_type": "markdown",
   "id": "8b28935c",
   "metadata": {},
   "source": [
    "## Trying to distinguish male and female voice based on data"
   ]
  },
  {
   "cell_type": "markdown",
   "id": "dba59b59",
   "metadata": {},
   "source": [
    "### Data cleaning"
   ]
  },
  {
   "cell_type": "code",
   "execution_count": 1,
   "id": "b94b76c7",
   "metadata": {},
   "outputs": [],
   "source": [
    "import pandas as pd\n",
    "import seaborn as sns\n",
    "import sklearn as sk"
   ]
  },
  {
   "cell_type": "code",
   "execution_count": 2,
   "id": "4d94a64d",
   "metadata": {},
   "outputs": [
    {
     "data": {
      "text/html": [
       "<div>\n",
       "<style scoped>\n",
       "    .dataframe tbody tr th:only-of-type {\n",
       "        vertical-align: middle;\n",
       "    }\n",
       "\n",
       "    .dataframe tbody tr th {\n",
       "        vertical-align: top;\n",
       "    }\n",
       "\n",
       "    .dataframe thead th {\n",
       "        text-align: right;\n",
       "    }\n",
       "</style>\n",
       "<table border=\"1\" class=\"dataframe\">\n",
       "  <thead>\n",
       "    <tr style=\"text-align: right;\">\n",
       "      <th></th>\n",
       "      <th>meanfreq</th>\n",
       "      <th>sd</th>\n",
       "      <th>median</th>\n",
       "      <th>sfm</th>\n",
       "      <th>meanfun</th>\n",
       "      <th>meandom</th>\n",
       "      <th>modindx</th>\n",
       "      <th>label</th>\n",
       "      <th>female</th>\n",
       "      <th>male</th>\n",
       "    </tr>\n",
       "  </thead>\n",
       "  <tbody>\n",
       "    <tr>\n",
       "      <th>0</th>\n",
       "      <td>0.059781</td>\n",
       "      <td>0.064241</td>\n",
       "      <td>0.032027</td>\n",
       "      <td>0.491918</td>\n",
       "      <td>0.084279</td>\n",
       "      <td>0.007812</td>\n",
       "      <td>0.000000</td>\n",
       "      <td>male</td>\n",
       "      <td>0</td>\n",
       "      <td>1</td>\n",
       "    </tr>\n",
       "    <tr>\n",
       "      <th>1</th>\n",
       "      <td>0.066009</td>\n",
       "      <td>0.067310</td>\n",
       "      <td>0.040229</td>\n",
       "      <td>0.513724</td>\n",
       "      <td>0.107937</td>\n",
       "      <td>0.009014</td>\n",
       "      <td>0.052632</td>\n",
       "      <td>male</td>\n",
       "      <td>0</td>\n",
       "      <td>1</td>\n",
       "    </tr>\n",
       "    <tr>\n",
       "      <th>2</th>\n",
       "      <td>0.077316</td>\n",
       "      <td>0.083829</td>\n",
       "      <td>0.036718</td>\n",
       "      <td>0.478905</td>\n",
       "      <td>0.098706</td>\n",
       "      <td>0.007990</td>\n",
       "      <td>0.046512</td>\n",
       "      <td>male</td>\n",
       "      <td>0</td>\n",
       "      <td>1</td>\n",
       "    </tr>\n",
       "    <tr>\n",
       "      <th>3</th>\n",
       "      <td>0.151228</td>\n",
       "      <td>0.072111</td>\n",
       "      <td>0.158011</td>\n",
       "      <td>0.727232</td>\n",
       "      <td>0.088965</td>\n",
       "      <td>0.201497</td>\n",
       "      <td>0.247119</td>\n",
       "      <td>male</td>\n",
       "      <td>0</td>\n",
       "      <td>1</td>\n",
       "    </tr>\n",
       "    <tr>\n",
       "      <th>4</th>\n",
       "      <td>0.135120</td>\n",
       "      <td>0.079146</td>\n",
       "      <td>0.124656</td>\n",
       "      <td>0.783568</td>\n",
       "      <td>0.106398</td>\n",
       "      <td>0.712812</td>\n",
       "      <td>0.208274</td>\n",
       "      <td>male</td>\n",
       "      <td>0</td>\n",
       "      <td>1</td>\n",
       "    </tr>\n",
       "  </tbody>\n",
       "</table>\n",
       "</div>"
      ],
      "text/plain": [
       "   meanfreq        sd    median       sfm   meanfun   meandom   modindx label  \\\n",
       "0  0.059781  0.064241  0.032027  0.491918  0.084279  0.007812  0.000000  male   \n",
       "1  0.066009  0.067310  0.040229  0.513724  0.107937  0.009014  0.052632  male   \n",
       "2  0.077316  0.083829  0.036718  0.478905  0.098706  0.007990  0.046512  male   \n",
       "3  0.151228  0.072111  0.158011  0.727232  0.088965  0.201497  0.247119  male   \n",
       "4  0.135120  0.079146  0.124656  0.783568  0.106398  0.712812  0.208274  male   \n",
       "\n",
       "   female  male  \n",
       "0       0     1  \n",
       "1       0     1  \n",
       "2       0     1  \n",
       "3       0     1  \n",
       "4       0     1  "
      ]
     },
     "execution_count": 2,
     "metadata": {},
     "output_type": "execute_result"
    }
   ],
   "source": [
    "df = pd.read_csv(\"voice.csv\")\n",
    "\n",
    "#Subset variables so we only use the ones we need\n",
    "subset = df[[\"meanfreq\",\"sd\",\"median\",\"sfm\",\"meanfun\",\"meandom\",\"modindx\",\"label\"]]\n",
    "\n",
    "#Turn male/female into a dummy variable\n",
    "dummies = pd.get_dummies(subset[\"label\"])\n",
    "subset = pd.concat([subset,dummies], axis = 1)\n",
    "subset.head()"
   ]
  },
  {
   "cell_type": "markdown",
   "id": "3a57a182",
   "metadata": {},
   "source": [
    "### Predictive model"
   ]
  },
  {
   "cell_type": "markdown",
   "id": "2818e7f5",
   "metadata": {},
   "source": [
    "The random forest algorithm creates several small neural networks called tree's. Each tree gets 1 vote and the decision that gets the most votes passes. "
   ]
  },
  {
   "cell_type": "code",
   "execution_count": 3,
   "id": "8b1a1fd5",
   "metadata": {},
   "outputs": [],
   "source": [
    "from sklearn.ensemble import RandomForestClassifier\n",
    "from sklearn.model_selection import train_test_split\n",
    "\n",
    "# Split the data into training and test sets\n",
    "X = subset[subset.columns[:7]]\n",
    "y = subset[\"label\"]\n",
    "X_train, X_test, y_train, y_test = train_test_split(X, y, test_size=0.3, random_state=1)\n",
    "\n",
    "#Fit the model\n",
    "\n",
    "clf = RandomForestClassifier(n_estimators=100)\n",
    "clf = clf.fit(X_train, y_train)"
   ]
  },
  {
   "cell_type": "markdown",
   "id": "57c7285c",
   "metadata": {},
   "source": [
    "### Evaluation"
   ]
  },
  {
   "cell_type": "code",
   "execution_count": 4,
   "id": "f368f09c",
   "metadata": {},
   "outputs": [
    {
     "data": {
      "text/plain": [
       "array([[442,  15],\n",
       "       [ 14, 480]], dtype=int64)"
      ]
     },
     "execution_count": 4,
     "metadata": {},
     "output_type": "execute_result"
    }
   ],
   "source": [
    "from sklearn.metrics import confusion_matrix\n",
    "\n",
    "#Test the fit by making a confusion matrix\n",
    "y_test_pred = clf.predict(X_test)\n",
    "cm = confusion_matrix(y_test, y_test_pred) \n",
    "cm"
   ]
  },
  {
   "cell_type": "code",
   "execution_count": 5,
   "id": "029316cb",
   "metadata": {},
   "outputs": [
    {
     "data": {
      "text/html": [
       "<div>\n",
       "<style scoped>\n",
       "    .dataframe tbody tr th:only-of-type {\n",
       "        vertical-align: middle;\n",
       "    }\n",
       "\n",
       "    .dataframe tbody tr th {\n",
       "        vertical-align: top;\n",
       "    }\n",
       "\n",
       "    .dataframe thead th {\n",
       "        text-align: right;\n",
       "    }\n",
       "</style>\n",
       "<table border=\"1\" class=\"dataframe\">\n",
       "  <thead>\n",
       "    <tr style=\"text-align: right;\">\n",
       "      <th></th>\n",
       "      <th>Female_p</th>\n",
       "      <th>Male_p</th>\n",
       "    </tr>\n",
       "  </thead>\n",
       "  <tbody>\n",
       "    <tr>\n",
       "      <th>Female</th>\n",
       "      <td>442</td>\n",
       "      <td>15</td>\n",
       "    </tr>\n",
       "    <tr>\n",
       "      <th>Male</th>\n",
       "      <td>14</td>\n",
       "      <td>480</td>\n",
       "    </tr>\n",
       "  </tbody>\n",
       "</table>\n",
       "</div>"
      ],
      "text/plain": [
       "        Female_p  Male_p\n",
       "Female       442      15\n",
       "Male          14     480"
      ]
     },
     "execution_count": 5,
     "metadata": {},
     "output_type": "execute_result"
    }
   ],
   "source": [
    "# add labels\n",
    "conf_matrix = pd.DataFrame(cm, index=[\"Female\", \"Male\", ], columns = [\"Female_p\",  \"Male_p\"]) \n",
    "conf_matrix"
   ]
  },
  {
   "cell_type": "markdown",
   "id": "6ea07617",
   "metadata": {},
   "source": [
    "### Conclusion"
   ]
  },
  {
   "cell_type": "markdown",
   "id": "b91f05a3",
   "metadata": {},
   "source": [
    "Female: Precision = 442 / 456 =  97%\n",
    "        Recall = 442 / 457 = 97%\n",
    "        \n",
    "Male: Precision = 480 / 495 = 97%\n",
    "      Recall = 480/494 = 97%\n",
    "      \n",
    "The model is 97% accurate"
   ]
  }
 ],
 "metadata": {
  "kernelspec": {
   "display_name": "Python 3 (ipykernel)",
   "language": "python",
   "name": "python3"
  },
  "language_info": {
   "codemirror_mode": {
    "name": "ipython",
    "version": 3
   },
   "file_extension": ".py",
   "mimetype": "text/x-python",
   "name": "python",
   "nbconvert_exporter": "python",
   "pygments_lexer": "ipython3",
   "version": "3.9.12"
  }
 },
 "nbformat": 4,
 "nbformat_minor": 5
}
